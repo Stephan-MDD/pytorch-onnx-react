{
 "cells": [
  {
   "cell_type": "markdown",
   "metadata": {},
   "source": [
    "# PyTorch MNIST\n",
    "\n",
    "References:\n",
    "- [https://nextjournal.com/gkoehler/pytorch-mnist](https://nextjournal.com/gkoehler/pytorch-mnist)\n",
    "- [https://www.youtube.com/watch?v=Vs730jsRgO8](https://www.youtube.com/watch?v=Vs730jsRgO8)\n",
    "\n",
    "TODO:\n",
    "- Refactor\n",
    "- Understand model inputs/ outputs\n",
    "- data augmentation\n",
    "- ONNX\n",
    "- ONNX Js\n",
    "- Retrain with new data?\n",
    "\n",
    "https://onnx.ai/\n",
    "https://github.com/microsoft/onnxruntime/tree/main/js/web#readme  \n",
    "https://pytorch.org/tutorials/advanced/super_resolution_with_onnxruntime.html  \n",
    "https://pytorch.org/tutorials/beginner/introyt.html  \n",
    "https://pytorch.org/tutorials/beginner/pytorch_with_examples.html  "
   ]
  },
  {
   "cell_type": "markdown",
   "metadata": {},
   "source": [
    "## Dependencies"
   ]
  },
  {
   "cell_type": "code",
   "execution_count": 27,
   "metadata": {},
   "outputs": [],
   "source": [
    "import torch\n",
    "import torchvision"
   ]
  },
  {
   "cell_type": "code",
   "execution_count": 28,
   "metadata": {},
   "outputs": [],
   "source": [
    "import torch.nn as nn\n",
    "import torch.nn.functional as F\n",
    "import torch.optim as optim"
   ]
  },
  {
   "cell_type": "code",
   "execution_count": 29,
   "metadata": {},
   "outputs": [],
   "source": [
    "import matplotlib.pyplot as plt"
   ]
  },
  {
   "cell_type": "code",
   "execution_count": null,
   "metadata": {},
   "outputs": [],
   "source": []
  },
  {
   "cell_type": "code",
   "execution_count": 30,
   "metadata": {},
   "outputs": [
    {
     "data": {
      "text/plain": [
       "<torch._C.Generator at 0x10431dcd0>"
      ]
     },
     "execution_count": 30,
     "metadata": {},
     "output_type": "execute_result"
    }
   ],
   "source": [
    "n_epochs = 3\n",
    "batch_size_train = 64\n",
    "batch_size_test = 1000\n",
    "learning_rate = 0.01\n",
    "momentum = 0.5\n",
    "log_interval = 10\n",
    "\n",
    "random_seed = 1\n",
    "torch.backends.cudnn.enabled = False\n",
    "torch.manual_seed(random_seed)"
   ]
  },
  {
   "cell_type": "code",
   "execution_count": 31,
   "metadata": {},
   "outputs": [],
   "source": [
    "\n",
    "transformer = torchvision.transforms.Compose([\n",
    "\ttorchvision.transforms.ToTensor(),\n",
    "    torchvision.transforms.Normalize((0.1307,), (0.3081,))\n",
    "])\n",
    "\n",
    "train_dataset = torchvision.datasets.MNIST('data/', train=True, download=True, transform=transformer)\n",
    "test_dataset = torchvision.datasets.MNIST('data/', train=False, download=True, transform=transformer)\n",
    "\n",
    "train_loader = torch.utils.data.DataLoader(train_dataset, batch_size=batch_size_train, shuffle=True)\n",
    "test_loader = torch.utils.data.DataLoader(test_dataset, batch_size=batch_size_test, shuffle=True)"
   ]
  },
  {
   "cell_type": "code",
   "execution_count": 32,
   "metadata": {},
   "outputs": [
    {
     "data": {
      "text/plain": [
       "(torch.Size([1000, 1, 28, 28]), torch.Size([1000]))"
      ]
     },
     "execution_count": 32,
     "metadata": {},
     "output_type": "execute_result"
    }
   ],
   "source": [
    "examples = enumerate(test_loader)\n",
    "batch_idx, (example_features, example_labels) = next(examples)\n",
    "example_features.shape, example_labels.shape"
   ]
  },
  {
   "cell_type": "code",
   "execution_count": 42,
   "metadata": {},
   "outputs": [
    {
     "data": {
      "image/png": "[encoded data removed]",
      "text/plain": [
       "<Figure size 432x288 with 6 Axes>"
      ]
     },
     "metadata": {},
     "output_type": "display_data"
    }
   ],
   "source": [
    "fig = plt.figure()\n",
    "\n",
    "for index in range(6):\n",
    "\tplt.subplot(2 ,3 , index + 1)\n",
    "\tplt.tight_layout()\n",
    "\n",
    "\tplt.imshow(example_features[index][0], cmap='gray')\n",
    "\tplt.title(f'Label: {example_labels[index]}', color='#1E90FF')\n",
    "\n",
    "\tplt.xticks([])\n",
    "\tplt.yticks([])"
   ]
  },
  {
   "cell_type": "markdown",
   "metadata": {},
   "source": [
    "class Net(nn.Module):\n",
    "\tdef __init__(self):\n",
    "\t\tsuper(Net, self).__init__()\n",
    "\t\tself.conv1 = nn.Conv2d(1, 10, kernel_size=5)\n",
    "\t\tself.conv2 = nn.Conv2d(10, 20, kernel_size=5)\n",
    "\t\tself.conv2_drop = nn.Dropout2d()\n",
    "\n",
    "\t\tself.fc1 = nn.Linear(50, 10)\n",
    "\t\tself.fc2 = nn.Linear(50, 10)\n",
    "\n",
    "\tdef forward(self, x):\n",
    "\t\tx = F.max_pool2d(self.conv1(x), 2)\n",
    "\t\tx = F.relu(x)\n",
    "\n",
    "\t\t# x = self.conv2_drop(x)\n",
    "\t\tx = F.max_pool2d(self.conv2(x), 2)\n",
    "\t\tx = F.relu(x)\n",
    "\n",
    "\t\tx = x.view(-1, 320)\n",
    "\n",
    "\t\tx = self.fc1(x)\n",
    "\t\tx = F.relu(x)\n",
    "\t\tx = F.dropout(x, training=self.training)\n",
    "\t\tx = self.fc2(x)\n",
    "\n",
    "\t\treturn F.softmax(x)"
   ]
  },
  {
   "cell_type": "code",
   "execution_count": 34,
   "metadata": {},
   "outputs": [],
   "source": [
    "class Net(nn.Module):\n",
    "\tdef __init__(self):\n",
    "\t\tsuper(Net, self).__init__()\n",
    "\t\tself.conv1 = nn.Conv2d(1, 10, kernel_size=5)\n",
    "\t\tself.conv2 = nn.Conv2d(10, 20, kernel_size=5)\n",
    "\t\tself.conv2_drop = nn.Dropout2d()\n",
    "\t\tself.fc1 = nn.Linear(320, 50)\n",
    "\t\tself.fc2 = nn.Linear(50, 10)\n",
    "\n",
    "\tdef forward(self, x):\n",
    "\t\tx = F.relu(F.max_pool2d(self.conv1(x), 2))\n",
    "\t\tx = F.relu(F.max_pool2d(self.conv2_drop(self.conv2(x)), 2))\n",
    "\t\tx = x.view(-1, 320)\n",
    "\t\tx = F.relu(self.fc1(x))\n",
    "\t\tx = F.dropout(x, training=self.training)\n",
    "\t\tx = self.fc2(x)\n",
    "\t\treturn F.softmax(x)"
   ]
  },
  {
   "cell_type": "code",
   "execution_count": 35,
   "metadata": {},
   "outputs": [],
   "source": [
    "network = Net()\n",
    "\n",
    "optimizer = optim.SGD(\n",
    "\tnetwork.parameters(),\n",
    "\tlr=learning_rate,\n",
    "\tmomentum=momentum\n",
    ")"
   ]
  },
  {
   "cell_type": "code",
   "execution_count": 36,
   "metadata": {},
   "outputs": [],
   "source": [
    "train_losses = []\n",
    "train_counter = []\n",
    "test_losses = []\n",
    "test_counter = [i*len(train_loader.dataset) for i in range(n_epochs + 1)]"
   ]
  },
  {
   "cell_type": "code",
   "execution_count": 37,
   "metadata": {},
   "outputs": [],
   "source": [
    "def train(epoch):\n",
    "\tnetwork.train()\n",
    "\n",
    "\tfor batch_idx, (data, target) in enumerate(train_loader):\n",
    "\t\toptimizer.zero_grad()\n",
    "\t\toutput = network(data)\n",
    "\t\tloss = F.nll_loss(output, target)\n",
    "\t\tloss.backward()\n",
    "\t\toptimizer.step()\n",
    "\n",
    "\t\tif batch_idx % log_interval == 0:\n",
    "\t\t\tprint('Train Epoch: {} [{}/{} ({:.0f}%)]\\tLoss: {:.6f}'.format(\n",
    "\t\t\t\tepoch, batch_idx * len(data), len(train_loader.dataset),\n",
    "\t\t\t\t100. * batch_idx / len(train_loader), loss.item())\n",
    "\t\t\t)\n",
    "\n",
    "\t\t\ttrain_losses.append(loss.item())\n",
    "\t\t\ttrain_counter.append((batch_idx*64) + ((epoch-1)*len(train_loader.dataset)))\n",
    "\t\t\ttorch.save(network.state_dict(), 'output/model.pth')\n",
    "\t\t\ttorch.save(optimizer.state_dict(), 'output/optimizer.pth')"
   ]
  },
  {
   "cell_type": "code",
   "execution_count": 38,
   "metadata": {},
   "outputs": [],
   "source": [
    "def test():\n",
    "\tnetwork.eval()\n",
    "\ttest_loss = 0\n",
    "\tcorrect = 0\n",
    "\n",
    "\twith torch.no_grad():\n",
    "\t\tfor data, target in test_loader:\n",
    "\t\t\toutput = network(data)\n",
    "\t\t\ttest_loss += F.nll_loss(output, target, size_average=False).item()\n",
    "\t\t\tpred = output.data.max(1, keepdim=True)[1]\n",
    "\t\t\tcorrect += pred.eq(target.data.view_as(pred)).sum()\n",
    "\n",
    "\ttest_loss /= len(test_loader.dataset)\n",
    "\ttest_losses.append(test_loss)\n",
    "\n",
    "\taccuracy_percentage = 100 * correct / len(test_loader.dataset)\n",
    "\tprint(f'\\nTest set: Avg. loss: {test_loss:.4f}, Accuracy: {correct}/{len(test_loader.dataset)} ({accuracy_percentage:.0f}%)\\n')"
   ]
  },
  {
   "cell_type": "code",
   "execution_count": 39,
   "metadata": {},
   "outputs": [
    {
     "name": "stderr",
     "output_type": "stream",
     "text": [
      "/var/folders/9f/ns03tkgj6p55j2qf18sdwkdr0000gn/T/ipykernel_80159/1786143091.py:17: UserWarning: Implicit dimension choice for softmax has been deprecated. Change the call to include dim=X as an argument.\n",
      "  return F.softmax(x)\n"
     ]
    },
    {
     "ename": "ValueError",
     "evalue": "Expected input batch_size (640) to match target batch_size (1000).",
     "output_type": "error",
     "traceback": [
      "\u001b[0;31m---------------------------------------------------------------------------\u001b[0m",
      "\u001b[0;31mValueError\u001b[0m                                Traceback (most recent call last)",
      "\u001b[1;32m/Users/marc/Development/ionine/mnist-client/python/example.ipynb Cell 17\u001b[0m in \u001b[0;36m<cell line: 1>\u001b[0;34m()\u001b[0m\n\u001b[0;32m----> <a href='vscode-notebook-cell:/Users/marc/Development/ionine/mnist-client/python/example.ipynb#X26sZmlsZQ%3D%3D?line=0'>1</a>\u001b[0m test()\n\u001b[1;32m      <a href='vscode-notebook-cell:/Users/marc/Development/ionine/mnist-client/python/example.ipynb#X26sZmlsZQ%3D%3D?line=2'>3</a>\u001b[0m \u001b[39mfor\u001b[39;00m epoch \u001b[39min\u001b[39;00m \u001b[39mrange\u001b[39m(\u001b[39m1\u001b[39m, n_epochs \u001b[39m+\u001b[39m \u001b[39m1\u001b[39m):\n\u001b[1;32m      <a href='vscode-notebook-cell:/Users/marc/Development/ionine/mnist-client/python/example.ipynb#X26sZmlsZQ%3D%3D?line=3'>4</a>\u001b[0m \ttrain(epoch)\n",
      "\u001b[1;32m/Users/marc/Development/ionine/mnist-client/python/example.ipynb Cell 17\u001b[0m in \u001b[0;36mtest\u001b[0;34m()\u001b[0m\n\u001b[1;32m      <a href='vscode-notebook-cell:/Users/marc/Development/ionine/mnist-client/python/example.ipynb#X26sZmlsZQ%3D%3D?line=6'>7</a>\u001b[0m \u001b[39mfor\u001b[39;00m data, target \u001b[39min\u001b[39;00m test_loader:\n\u001b[1;32m      <a href='vscode-notebook-cell:/Users/marc/Development/ionine/mnist-client/python/example.ipynb#X26sZmlsZQ%3D%3D?line=7'>8</a>\u001b[0m \toutput \u001b[39m=\u001b[39m network(data)\n\u001b[0;32m----> <a href='vscode-notebook-cell:/Users/marc/Development/ionine/mnist-client/python/example.ipynb#X26sZmlsZQ%3D%3D?line=8'>9</a>\u001b[0m \ttest_loss \u001b[39m+\u001b[39m\u001b[39m=\u001b[39m F\u001b[39m.\u001b[39;49mnll_loss(output, target, size_average\u001b[39m=\u001b[39;49m\u001b[39mFalse\u001b[39;49;00m)\u001b[39m.\u001b[39mitem()\n\u001b[1;32m     <a href='vscode-notebook-cell:/Users/marc/Development/ionine/mnist-client/python/example.ipynb#X26sZmlsZQ%3D%3D?line=9'>10</a>\u001b[0m \tpred \u001b[39m=\u001b[39m output\u001b[39m.\u001b[39mdata\u001b[39m.\u001b[39mmax(\u001b[39m1\u001b[39m, keepdim\u001b[39m=\u001b[39m\u001b[39mTrue\u001b[39;00m)[\u001b[39m1\u001b[39m]\n\u001b[1;32m     <a href='vscode-notebook-cell:/Users/marc/Development/ionine/mnist-client/python/example.ipynb#X26sZmlsZQ%3D%3D?line=10'>11</a>\u001b[0m \tcorrect \u001b[39m+\u001b[39m\u001b[39m=\u001b[39m pred\u001b[39m.\u001b[39meq(target\u001b[39m.\u001b[39mdata\u001b[39m.\u001b[39mview_as(pred))\u001b[39m.\u001b[39msum()\n",
      "File \u001b[0;32m/opt/homebrew/Caskroom/miniforge/base/lib/python3.9/site-packages/torch/nn/functional.py:2689\u001b[0m, in \u001b[0;36mnll_loss\u001b[0;34m(input, target, weight, size_average, ignore_index, reduce, reduction)\u001b[0m\n\u001b[1;32m   2687\u001b[0m \u001b[39mif\u001b[39;00m size_average \u001b[39mis\u001b[39;00m \u001b[39mnot\u001b[39;00m \u001b[39mNone\u001b[39;00m \u001b[39mor\u001b[39;00m reduce \u001b[39mis\u001b[39;00m \u001b[39mnot\u001b[39;00m \u001b[39mNone\u001b[39;00m:\n\u001b[1;32m   2688\u001b[0m     reduction \u001b[39m=\u001b[39m _Reduction\u001b[39m.\u001b[39mlegacy_get_string(size_average, reduce)\n\u001b[0;32m-> 2689\u001b[0m \u001b[39mreturn\u001b[39;00m torch\u001b[39m.\u001b[39;49m_C\u001b[39m.\u001b[39;49m_nn\u001b[39m.\u001b[39;49mnll_loss_nd(\u001b[39minput\u001b[39;49m, target, weight, _Reduction\u001b[39m.\u001b[39;49mget_enum(reduction), ignore_index)\n",
      "\u001b[0;31mValueError\u001b[0m: Expected input batch_size (640) to match target batch_size (1000)."
     ]
    }
   ],
   "source": [
    "test()\n",
    "\n",
    "for epoch in range(1, n_epochs + 1):\n",
    "\ttrain(epoch)\n",
    "\ttest()"
   ]
  },
  {
   "cell_type": "code",
   "execution_count": null,
   "metadata": {},
   "outputs": [],
   "source": []
  },
  {
   "cell_type": "code",
   "execution_count": null,
   "metadata": {},
   "outputs": [],
   "source": [
    "fig = plt.figure()\n",
    "plt.plot(train_counter, train_losses, color='blue')\n",
    "plt.scatter(test_counter, test_losses, color='red')\n",
    "plt.legend(['Train Loss', 'Test Loss'], loc='upper right')\n",
    "plt.xlabel('number of training examples seen')\n",
    "plt.ylabel('negative log likelihood loss')"
   ]
  },
  {
   "cell_type": "code",
   "execution_count": null,
   "metadata": {},
   "outputs": [],
   "source": []
  },
  {
   "cell_type": "code",
   "execution_count": null,
   "metadata": {},
   "outputs": [],
   "source": [
    "with torch.no_grad():\n",
    "\toutput = network(example_data)\n",
    "\n",
    "fig = plt.figure()\n",
    "\n",
    "for i in range(6):\n",
    "\tplt.subplot(2,3,i+1)\n",
    "\tplt.tight_layout()\n",
    "\tplt.imshow(example_data[i][0], cmap='gray', interpolation='none')\n",
    "\tplt.title(\"Prediction: {}\".format(output.data.max(1, keepdim=True)[1][i].item()), color='white')\n",
    "\tplt.xticks([])\n",
    "\tplt.yticks([])\n",
    "\n",
    "fig"
   ]
  },
  {
   "cell_type": "code",
   "execution_count": null,
   "metadata": {},
   "outputs": [],
   "source": []
  },
  {
   "cell_type": "code",
   "execution_count": null,
   "metadata": {},
   "outputs": [],
   "source": [
    "continued_network = Net()\n",
    "\n",
    "continued_optimizer = optim.SGD(\n",
    "\tnetwork.parameters(),\n",
    "\tlr=learning_rate,\n",
    "\tmomentum=momentum,\n",
    ")"
   ]
  },
  {
   "cell_type": "code",
   "execution_count": null,
   "metadata": {},
   "outputs": [],
   "source": [
    "network_state_dict = torch.load('output/model.pth')\n",
    "continued_network.load_state_dict(network_state_dict)\n",
    "\n",
    "optimizer_state_dict = torch.load('output/optimizer.pth')\n",
    "continued_optimizer.load_state_dict(optimizer_state_dict)"
   ]
  },
  {
   "cell_type": "code",
   "execution_count": null,
   "metadata": {},
   "outputs": [],
   "source": []
  },
  {
   "cell_type": "code",
   "execution_count": null,
   "metadata": {},
   "outputs": [],
   "source": [
    "for i in range(4,9):\n",
    "\ttest_counter.append(i*len(train_loader.dataset))\n",
    "\ttrain(i)\n",
    "\ttest()"
   ]
  },
  {
   "cell_type": "code",
   "execution_count": null,
   "metadata": {},
   "outputs": [],
   "source": []
  },
  {
   "cell_type": "code",
   "execution_count": null,
   "metadata": {},
   "outputs": [],
   "source": [
    "fig = plt.figure()\n",
    "plt.plot(train_counter, train_losses, color='blue')\n",
    "plt.scatter(test_counter, test_losses, color='red')\n",
    "plt.legend(['Train Loss', 'Test Loss'], loc='upper right')\n",
    "plt.xlabel('number of training examples seen')\n",
    "plt.ylabel('negative log likelihood loss')"
   ]
  },
  {
   "cell_type": "code",
   "execution_count": null,
   "metadata": {},
   "outputs": [],
   "source": []
  },
  {
   "cell_type": "code",
   "execution_count": null,
   "metadata": {},
   "outputs": [],
   "source": [
    "torch.save(network.state_dict(), 'output/model.pt')"
   ]
  },
  {
   "cell_type": "code",
   "execution_count": null,
   "metadata": {},
   "outputs": [],
   "source": [
    "pt_model = Net()\n",
    "pt_model.load_state_dict(torch.load('output/model.pt'))\n",
    "pt_model.eval()\n",
    "\n",
    "dummy_input = torch.zeros(1, 1, 28, 28)\n",
    "torch.onnx.export(pt_model, dummy_input, 'onnx_model.onnx', verbose=True)"
   ]
  }
 ],
 "metadata": {
  "kernelspec": {
   "display_name": "Python 3.9.13 ('base')",
   "language": "python",
   "name": "python3"
  },
  "language_info": {
   "codemirror_mode": {
    "name": "ipython",
    "version": 3
   },
   "file_extension": ".py",
   "mimetype": "text/x-python",
   "name": "python",
   "nbconvert_exporter": "python",
   "pygments_lexer": "ipython3",
   "version": "3.9.13"
  },
  "orig_nbformat": 4,
  "vscode": {
   "interpreter": {
    "hash": "c6e4e9f98eb68ad3b7c296f83d20e6de614cb42e90992a65aa266555a3137d0d"
   }
  }
 },
 "nbformat": 4,
 "nbformat_minor": 2
}
